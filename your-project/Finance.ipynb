{
 "cells": [
  {
   "cell_type": "code",
   "execution_count": 2,
   "metadata": {},
   "outputs": [],
   "source": [
    "import numpy as np\n",
    "import pandas as pd\n",
    "import scipy.stats as st\n",
    "\n",
    "import matplotlib.pyplot as plt\n",
    "\n",
    "from scipy.stats import f_oneway\n",
    "from statsmodels.stats.multicomp import pairwise_tukeyhsd"
   ]
  },
  {
   "cell_type": "markdown",
   "metadata": {},
   "source": [
    "# Cleaning"
   ]
  },
  {
   "cell_type": "code",
   "execution_count": 3,
   "metadata": {},
   "outputs": [
    {
     "data": {
      "text/html": [
       "<div>\n",
       "<style scoped>\n",
       "    .dataframe tbody tr th:only-of-type {\n",
       "        vertical-align: middle;\n",
       "    }\n",
       "\n",
       "    .dataframe tbody tr th {\n",
       "        vertical-align: top;\n",
       "    }\n",
       "\n",
       "    .dataframe thead th {\n",
       "        text-align: right;\n",
       "    }\n",
       "</style>\n",
       "<table border=\"1\" class=\"dataframe\">\n",
       "  <thead>\n",
       "    <tr style=\"text-align: right;\">\n",
       "      <th></th>\n",
       "      <th>Carimbo de data/hora</th>\n",
       "      <th>01 / 13 - Gender</th>\n",
       "      <th>02 / 13 - Whats your age? (only number)</th>\n",
       "      <th>03 / 13 - Marital Status:</th>\n",
       "      <th>04 / 13 - Education Level</th>\n",
       "      <th>05 / 13 - Monthly Income (x min wage)</th>\n",
       "      <th>06 / 13 - Importance of Financial Education</th>\n",
       "      <th>07 /13 - Source of Financial Education</th>\n",
       "      <th>08 / 13 - Level of Knowledge in the Stock Market</th>\n",
       "      <th>09 / 13 - Financial Planning and Control</th>\n",
       "      <th>10 / 13 - Percentage of Salary Invested</th>\n",
       "      <th>11 / 13 - Types of Investments</th>\n",
       "      <th>12 / 13 - Investment Objectives</th>\n",
       "      <th>13 / 13 - What´s your acceptance of risk in invested capital</th>\n",
       "    </tr>\n",
       "  </thead>\n",
       "  <tbody>\n",
       "    <tr>\n",
       "      <th>0</th>\n",
       "      <td>2023/08/13 2:53:39 PM GMT+1</td>\n",
       "      <td>Female</td>\n",
       "      <td>39 to 55</td>\n",
       "      <td>Married or Living together</td>\n",
       "      <td>Postgraduate Degree</td>\n",
       "      <td>Up to 1 minimum wage</td>\n",
       "      <td>Very important</td>\n",
       "      <td>Family and friends</td>\n",
       "      <td>Medium</td>\n",
       "      <td>Medium (I define my expenses in a basic way)</td>\n",
       "      <td>to 10%</td>\n",
       "      <td>Savings account</td>\n",
       "      <td>Retirement</td>\n",
       "      <td>Preserve capital with no risk</td>\n",
       "    </tr>\n",
       "    <tr>\n",
       "      <th>1</th>\n",
       "      <td>2023/08/13 2:54:47 PM GMT+1</td>\n",
       "      <td>Male</td>\n",
       "      <td>39 to 55</td>\n",
       "      <td>Married or Living together</td>\n",
       "      <td>Postgraduate Degree</td>\n",
       "      <td>Above 5 minimum wages</td>\n",
       "      <td>Very important</td>\n",
       "      <td>Self-taught</td>\n",
       "      <td>High</td>\n",
       "      <td>Medium (I define my expenses in a basic way)</td>\n",
       "      <td>to 30%</td>\n",
       "      <td>Stocks</td>\n",
       "      <td>Retirement</td>\n",
       "      <td>Earn more with low risk</td>\n",
       "    </tr>\n",
       "    <tr>\n",
       "      <th>2</th>\n",
       "      <td>2023/08/14 2:35:01 PM GMT+1</td>\n",
       "      <td>Male</td>\n",
       "      <td>24</td>\n",
       "      <td>Married or Living together</td>\n",
       "      <td>Secondary School</td>\n",
       "      <td>1</td>\n",
       "      <td>Very important</td>\n",
       "      <td>Self-taught</td>\n",
       "      <td>1</td>\n",
       "      <td>Medium (I define my expenses in a basic way)</td>\n",
       "      <td>NaN</td>\n",
       "      <td>NaN</td>\n",
       "      <td>Retirement;Emergencies</td>\n",
       "      <td>Earn more with low risk</td>\n",
       "    </tr>\n",
       "    <tr>\n",
       "      <th>3</th>\n",
       "      <td>2023/08/14 2:35:35 PM GMT+1</td>\n",
       "      <td>Male</td>\n",
       "      <td>32</td>\n",
       "      <td>Single or Living alone</td>\n",
       "      <td>Bachelor´s Degree</td>\n",
       "      <td>3</td>\n",
       "      <td>Slightly important</td>\n",
       "      <td>Self-taught</td>\n",
       "      <td>1</td>\n",
       "      <td>Medium (I define my expenses in a basic way)</td>\n",
       "      <td>to 10%</td>\n",
       "      <td>Real estate;crypto</td>\n",
       "      <td>Retirement;Children future</td>\n",
       "      <td>Not afraid to take risks</td>\n",
       "    </tr>\n",
       "    <tr>\n",
       "      <th>4</th>\n",
       "      <td>2023/08/14 2:36:08 PM GMT+1</td>\n",
       "      <td>Female</td>\n",
       "      <td>23</td>\n",
       "      <td>Single or Living alone</td>\n",
       "      <td>Bachelor´s Degree</td>\n",
       "      <td>1</td>\n",
       "      <td>Very important</td>\n",
       "      <td>Family and friends</td>\n",
       "      <td>0</td>\n",
       "      <td>Medium (I define my expenses in a basic way)</td>\n",
       "      <td>to 10%</td>\n",
       "      <td>Savings account</td>\n",
       "      <td>Other</td>\n",
       "      <td>Earn more with low risk</td>\n",
       "    </tr>\n",
       "  </tbody>\n",
       "</table>\n",
       "</div>"
      ],
      "text/plain": [
       "          Carimbo de data/hora 01 / 13 - Gender  \\\n",
       "0  2023/08/13 2:53:39 PM GMT+1           Female   \n",
       "1  2023/08/13 2:54:47 PM GMT+1             Male   \n",
       "2  2023/08/14 2:35:01 PM GMT+1             Male   \n",
       "3  2023/08/14 2:35:35 PM GMT+1             Male   \n",
       "4  2023/08/14 2:36:08 PM GMT+1           Female   \n",
       "\n",
       "  02 / 13 - Whats your age? (only number)   03 / 13 - Marital Status:  \\\n",
       "0                                39 to 55  Married or Living together   \n",
       "1                                39 to 55  Married or Living together   \n",
       "2                                      24  Married or Living together   \n",
       "3                                      32      Single or Living alone   \n",
       "4                                      23      Single or Living alone   \n",
       "\n",
       "  04 / 13 - Education Level 05 / 13 - Monthly Income (x min wage)  \\\n",
       "0       Postgraduate Degree                  Up to 1 minimum wage   \n",
       "1       Postgraduate Degree                 Above 5 minimum wages   \n",
       "2          Secondary School                                     1   \n",
       "3         Bachelor´s Degree                                     3   \n",
       "4         Bachelor´s Degree                                     1   \n",
       "\n",
       "  06 / 13 - Importance of Financial Education  \\\n",
       "0                              Very important   \n",
       "1                              Very important   \n",
       "2                              Very important   \n",
       "3                          Slightly important   \n",
       "4                              Very important   \n",
       "\n",
       "  07 /13 - Source of Financial Education  \\\n",
       "0                     Family and friends   \n",
       "1                            Self-taught   \n",
       "2                            Self-taught   \n",
       "3                            Self-taught   \n",
       "4                     Family and friends   \n",
       "\n",
       "  08 / 13 - Level of Knowledge in the Stock Market  \\\n",
       "0                                           Medium   \n",
       "1                                             High   \n",
       "2                                                1   \n",
       "3                                                1   \n",
       "4                                                0   \n",
       "\n",
       "       09 / 13 - Financial Planning and Control  \\\n",
       "0  Medium (I define my expenses in a basic way)   \n",
       "1  Medium (I define my expenses in a basic way)   \n",
       "2  Medium (I define my expenses in a basic way)   \n",
       "3  Medium (I define my expenses in a basic way)   \n",
       "4  Medium (I define my expenses in a basic way)   \n",
       "\n",
       "  10 / 13 - Percentage of Salary Invested 11 / 13 - Types of Investments  \\\n",
       "0                                  to 10%                Savings account   \n",
       "1                                  to 30%                         Stocks   \n",
       "2                                     NaN                            NaN   \n",
       "3                                  to 10%             Real estate;crypto   \n",
       "4                                  to 10%                Savings account   \n",
       "\n",
       "  12 / 13 - Investment Objectives  \\\n",
       "0                      Retirement   \n",
       "1                      Retirement   \n",
       "2          Retirement;Emergencies   \n",
       "3      Retirement;Children future   \n",
       "4                           Other   \n",
       "\n",
       "  13 / 13 - What´s your acceptance of risk in invested capital  \n",
       "0                      Preserve capital with no risk            \n",
       "1                            Earn more with low risk            \n",
       "2                            Earn more with low risk            \n",
       "3                           Not afraid to take risks            \n",
       "4                            Earn more with low risk            "
      ]
     },
     "execution_count": 3,
     "metadata": {},
     "output_type": "execute_result"
    }
   ],
   "source": [
    "finance = pd.read_csv(\"Financial Research Questionnaire.csv\")\n",
    "finance.head()"
   ]
  },
  {
   "cell_type": "code",
   "execution_count": 4,
   "metadata": {},
   "outputs": [],
   "source": [
    "#Drop the data columm\n",
    "\n",
    "finance = finance.drop('Carimbo de data/hora',axis=1)"
   ]
  },
  {
   "cell_type": "code",
   "execution_count": 5,
   "metadata": {},
   "outputs": [],
   "source": [
    "# Drop the first two test rows\n",
    "\n",
    "finance = finance.drop([0, 1]).reset_index(drop=True)"
   ]
  },
  {
   "cell_type": "code",
   "execution_count": 6,
   "metadata": {},
   "outputs": [],
   "source": [
    "#Rename the columns\n",
    "\n",
    "new_columns = {'01 / 13 - Gender':\"Gender\", '02 / 13 - Whats your age? (only number)':\"Age\",\n",
    "       '03 / 13 - Marital Status:':\"Marital\", '04 / 13 - Education Level':\"Education\",\n",
    "       '05 / 13 - Monthly Income (x min wage)':\"Salary\",\n",
    "       '06 / 13 - Importance of Financial Education':\"Importance\",\n",
    "       '07 /13 - Source of Financial Education':\"Source\",\n",
    "       '08 / 13 - Level of Knowledge in the Stock Market':\"Knowledge\",\n",
    "       '09 / 13 - Financial Planning and Control':\"Control\",\n",
    "       '10 / 13 - Percentage of Salary Invested':\"Percentage\",\n",
    "       '11 / 13 - Types of Investments':\"Investments\", '12 / 13 - Investment Objectives':\"Objectives\",\n",
    "       '13 / 13 - What´s your acceptance of risk in invested capital':\"Risk\"}\n",
    "finance.rename(columns=new_columns, inplace=True)"
   ]
  },
  {
   "cell_type": "code",
   "execution_count": 7,
   "metadata": {},
   "outputs": [
    {
     "data": {
      "text/plain": [
       "Index(['Gender', 'Age', 'Marital', 'Education', 'Salary', 'Importance',\n",
       "       'Source', 'Knowledge', 'Control', 'Percentage', 'Investments',\n",
       "       'Objectives', 'Risk'],\n",
       "      dtype='object')"
      ]
     },
     "execution_count": 7,
     "metadata": {},
     "output_type": "execute_result"
    }
   ],
   "source": [
    "finance.columns"
   ]
  },
  {
   "cell_type": "code",
   "execution_count": 8,
   "metadata": {},
   "outputs": [
    {
     "data": {
      "text/plain": [
       "Gender\n",
       "Male      36\n",
       "Female    22\n",
       "Name: count, dtype: int64"
      ]
     },
     "execution_count": 8,
     "metadata": {},
     "output_type": "execute_result"
    }
   ],
   "source": [
    "finance[\"Gender\"].value_counts()"
   ]
  },
  {
   "cell_type": "code",
   "execution_count": 9,
   "metadata": {},
   "outputs": [
    {
     "data": {
      "text/html": [
       "<div>\n",
       "<style scoped>\n",
       "    .dataframe tbody tr th:only-of-type {\n",
       "        vertical-align: middle;\n",
       "    }\n",
       "\n",
       "    .dataframe tbody tr th {\n",
       "        vertical-align: top;\n",
       "    }\n",
       "\n",
       "    .dataframe thead th {\n",
       "        text-align: right;\n",
       "    }\n",
       "</style>\n",
       "<table border=\"1\" class=\"dataframe\">\n",
       "  <thead>\n",
       "    <tr style=\"text-align: right;\">\n",
       "      <th></th>\n",
       "      <th>Gender</th>\n",
       "      <th>Age</th>\n",
       "      <th>Marital</th>\n",
       "      <th>Education</th>\n",
       "      <th>Salary</th>\n",
       "      <th>Importance</th>\n",
       "      <th>Source</th>\n",
       "      <th>Knowledge</th>\n",
       "      <th>Control</th>\n",
       "      <th>Percentage</th>\n",
       "      <th>Investments</th>\n",
       "      <th>Objectives</th>\n",
       "      <th>Risk</th>\n",
       "    </tr>\n",
       "  </thead>\n",
       "  <tbody>\n",
       "    <tr>\n",
       "      <th>0</th>\n",
       "      <td>Male</td>\n",
       "      <td>24</td>\n",
       "      <td>Married or Living together</td>\n",
       "      <td>Secondary School</td>\n",
       "      <td>1</td>\n",
       "      <td>Very important</td>\n",
       "      <td>Self-taught</td>\n",
       "      <td>1</td>\n",
       "      <td>Medium (I define my expenses in a basic way)</td>\n",
       "      <td>NaN</td>\n",
       "      <td>NaN</td>\n",
       "      <td>Retirement;Emergencies</td>\n",
       "      <td>Earn more with low risk</td>\n",
       "    </tr>\n",
       "    <tr>\n",
       "      <th>1</th>\n",
       "      <td>Male</td>\n",
       "      <td>32</td>\n",
       "      <td>Single or Living alone</td>\n",
       "      <td>Bachelor´s Degree</td>\n",
       "      <td>3</td>\n",
       "      <td>Slightly important</td>\n",
       "      <td>Self-taught</td>\n",
       "      <td>1</td>\n",
       "      <td>Medium (I define my expenses in a basic way)</td>\n",
       "      <td>to 10%</td>\n",
       "      <td>Real estate;crypto</td>\n",
       "      <td>Retirement;Children future</td>\n",
       "      <td>Not afraid to take risks</td>\n",
       "    </tr>\n",
       "    <tr>\n",
       "      <th>2</th>\n",
       "      <td>Female</td>\n",
       "      <td>23</td>\n",
       "      <td>Single or Living alone</td>\n",
       "      <td>Bachelor´s Degree</td>\n",
       "      <td>1</td>\n",
       "      <td>Very important</td>\n",
       "      <td>Family and friends</td>\n",
       "      <td>0</td>\n",
       "      <td>Medium (I define my expenses in a basic way)</td>\n",
       "      <td>to 10%</td>\n",
       "      <td>Savings account</td>\n",
       "      <td>Other</td>\n",
       "      <td>Earn more with low risk</td>\n",
       "    </tr>\n",
       "    <tr>\n",
       "      <th>3</th>\n",
       "      <td>Male</td>\n",
       "      <td>39</td>\n",
       "      <td>Married or Living together</td>\n",
       "      <td>Master or plus</td>\n",
       "      <td>1</td>\n",
       "      <td>Very important</td>\n",
       "      <td>Family and friends</td>\n",
       "      <td>2</td>\n",
       "      <td>High (I categorize all my expenses)</td>\n",
       "      <td>to 10%</td>\n",
       "      <td>Stocks;Savings account</td>\n",
       "      <td>Retirement;Children future;Emergencies;Unemplo...</td>\n",
       "      <td>Preserve capital with no risk</td>\n",
       "    </tr>\n",
       "    <tr>\n",
       "      <th>4</th>\n",
       "      <td>Male</td>\n",
       "      <td>23</td>\n",
       "      <td>Single or Living alone</td>\n",
       "      <td>Secondary School</td>\n",
       "      <td>2</td>\n",
       "      <td>Very important</td>\n",
       "      <td>Family and friends</td>\n",
       "      <td>2</td>\n",
       "      <td>Medium (I define my expenses in a basic way)</td>\n",
       "      <td>to 10%</td>\n",
       "      <td>Savings account</td>\n",
       "      <td>Retirement;Children future;Emergencies;Unemplo...</td>\n",
       "      <td>Earn more with low risk</td>\n",
       "    </tr>\n",
       "  </tbody>\n",
       "</table>\n",
       "</div>"
      ],
      "text/plain": [
       "   Gender Age                     Marital          Education Salary  \\\n",
       "0    Male  24  Married or Living together   Secondary School      1   \n",
       "1    Male  32      Single or Living alone  Bachelor´s Degree      3   \n",
       "2  Female  23      Single or Living alone  Bachelor´s Degree      1   \n",
       "3    Male  39  Married or Living together     Master or plus      1   \n",
       "4    Male  23      Single or Living alone   Secondary School      2   \n",
       "\n",
       "           Importance              Source Knowledge  \\\n",
       "0      Very important         Self-taught         1   \n",
       "1  Slightly important         Self-taught         1   \n",
       "2      Very important  Family and friends         0   \n",
       "3      Very important  Family and friends         2   \n",
       "4      Very important  Family and friends         2   \n",
       "\n",
       "                                        Control Percentage  \\\n",
       "0  Medium (I define my expenses in a basic way)        NaN   \n",
       "1  Medium (I define my expenses in a basic way)     to 10%   \n",
       "2  Medium (I define my expenses in a basic way)     to 10%   \n",
       "3           High (I categorize all my expenses)     to 10%   \n",
       "4  Medium (I define my expenses in a basic way)     to 10%   \n",
       "\n",
       "              Investments                                         Objectives  \\\n",
       "0                     NaN                             Retirement;Emergencies   \n",
       "1      Real estate;crypto                         Retirement;Children future   \n",
       "2         Savings account                                              Other   \n",
       "3  Stocks;Savings account  Retirement;Children future;Emergencies;Unemplo...   \n",
       "4         Savings account  Retirement;Children future;Emergencies;Unemplo...   \n",
       "\n",
       "                            Risk  \n",
       "0        Earn more with low risk  \n",
       "1       Not afraid to take risks  \n",
       "2        Earn more with low risk  \n",
       "3  Preserve capital with no risk  \n",
       "4        Earn more with low risk  "
      ]
     },
     "execution_count": 9,
     "metadata": {},
     "output_type": "execute_result"
    }
   ],
   "source": [
    "finance.head()"
   ]
  },
  {
   "cell_type": "code",
   "execution_count": 10,
   "metadata": {},
   "outputs": [
    {
     "data": {
      "text/plain": [
       "array(['24', '32', '23', '39', '35', '16', '43', '17', '30', '44', '22',\n",
       "       '29', '42', '45', '34', '27', '25', '31', '52', '75', '47', '73',\n",
       "       '63', '78', '46', '40', '41', '50', '55', '33', '36', '28', '37'],\n",
       "      dtype=object)"
      ]
     },
     "execution_count": 10,
     "metadata": {},
     "output_type": "execute_result"
    }
   ],
   "source": [
    "#Clean the ages with text\n",
    "\n",
    "finance['Age'] = finance['Age'].str.extract(r'(\\d+)', expand=False)\n",
    "finance[\"Age\"].unique()"
   ]
  },
  {
   "cell_type": "code",
   "execution_count": 11,
   "metadata": {},
   "outputs": [
    {
     "data": {
      "text/plain": [
       "array([nan, 'Real estate;crypto', 'Savings account',\n",
       "       'Stocks;Savings account', 'Real estate;Savings account',\n",
       "       'Stocks;Real estate;Savings account',\n",
       "       'Real estate;Savings account;Crypto', 'Real estate',\n",
       "       'private pension', 'Stocks', 'Stocks;Real estate'], dtype=object)"
      ]
     },
     "execution_count": 11,
     "metadata": {},
     "output_type": "execute_result"
    }
   ],
   "source": [
    "finance[\"Investments\"].unique()"
   ]
  },
  {
   "cell_type": "code",
   "execution_count": 12,
   "metadata": {},
   "outputs": [
    {
     "data": {
      "text/plain": [
       "array(['Married or Living together', 'Single or Living alone'],\n",
       "      dtype=object)"
      ]
     },
     "execution_count": 12,
     "metadata": {},
     "output_type": "execute_result"
    }
   ],
   "source": [
    "finance[\"Marital\"].unique()"
   ]
  },
  {
   "cell_type": "code",
   "execution_count": 13,
   "metadata": {},
   "outputs": [
    {
     "data": {
      "text/plain": [
       "array([nan, 'to 10%', 'to 30% or more', 'to 20%'], dtype=object)"
      ]
     },
     "execution_count": 13,
     "metadata": {},
     "output_type": "execute_result"
    }
   ],
   "source": [
    "finance[\"Percentage\"].unique()"
   ]
  },
  {
   "cell_type": "markdown",
   "metadata": {},
   "source": [
    "# GOODNESS OF FIT AND ASSOCIATION TESTING"
   ]
  },
  {
   "cell_type": "markdown",
   "metadata": {},
   "source": [
    "# Invest x Marital"
   ]
  },
  {
   "cell_type": "code",
   "execution_count": 14,
   "metadata": {},
   "outputs": [
    {
     "data": {
      "text/html": [
       "<div>\n",
       "<style scoped>\n",
       "    .dataframe tbody tr th:only-of-type {\n",
       "        vertical-align: middle;\n",
       "    }\n",
       "\n",
       "    .dataframe tbody tr th {\n",
       "        vertical-align: top;\n",
       "    }\n",
       "\n",
       "    .dataframe thead th {\n",
       "        text-align: right;\n",
       "    }\n",
       "</style>\n",
       "<table border=\"1\" class=\"dataframe\">\n",
       "  <thead>\n",
       "    <tr style=\"text-align: right;\">\n",
       "      <th>Marital</th>\n",
       "      <th>Married or Living together</th>\n",
       "      <th>Single or Living alone</th>\n",
       "    </tr>\n",
       "    <tr>\n",
       "      <th>Percentage</th>\n",
       "      <th></th>\n",
       "      <th></th>\n",
       "    </tr>\n",
       "  </thead>\n",
       "  <tbody>\n",
       "    <tr>\n",
       "      <th>to 10%</th>\n",
       "      <td>14</td>\n",
       "      <td>6</td>\n",
       "    </tr>\n",
       "    <tr>\n",
       "      <th>to 20%</th>\n",
       "      <td>7</td>\n",
       "      <td>7</td>\n",
       "    </tr>\n",
       "    <tr>\n",
       "      <th>to 30% or more</th>\n",
       "      <td>7</td>\n",
       "      <td>4</td>\n",
       "    </tr>\n",
       "  </tbody>\n",
       "</table>\n",
       "</div>"
      ],
      "text/plain": [
       "Marital         Married or Living together  Single or Living alone\n",
       "Percentage                                                        \n",
       "to 10%                                  14                       6\n",
       "to 20%                                   7                       7\n",
       "to 30% or more                           7                       4"
      ]
     },
     "execution_count": 14,
     "metadata": {},
     "output_type": "execute_result"
    }
   ],
   "source": [
    "# Marital / Percentage\n",
    "\n",
    "#finance.pivot_table(index = \"Marital\", columns = \"Percentage\", aggfunc=\"count\").reset_index().T\n",
    "marital_pivot = finance.pivot_table(index='Percentage', columns='Marital', aggfunc='size', fill_value=0)\n",
    "marital_pivot\n"
   ]
  },
  {
   "cell_type": "code",
   "execution_count": 15,
   "metadata": {},
   "outputs": [
    {
     "data": {
      "text/plain": [
       "[[14, 6], [7, 7], [7, 4]]"
      ]
     },
     "execution_count": 15,
     "metadata": {},
     "output_type": "execute_result"
    }
   ],
   "source": [
    "resultado_marital = marital_pivot.values.tolist()\n",
    "resultado_marital"
   ]
  },
  {
   "cell_type": "code",
   "execution_count": 16,
   "metadata": {},
   "outputs": [
    {
     "data": {
      "text/plain": [
       "Chi2ContingencyResult(statistic=1.4137700534759357, pvalue=0.49317804369524354, dof=2, expected_freq=array([[12.44444444,  7.55555556],\n",
       "       [ 8.71111111,  5.28888889],\n",
       "       [ 6.84444444,  4.15555556]]))"
      ]
     },
     "execution_count": 16,
     "metadata": {},
     "output_type": "execute_result"
    }
   ],
   "source": [
    "## H0: the marital status are independent of the investment\n",
    "## H1: the marital status are dependent of the investment\n",
    "\n",
    "\n",
    "alpha = 0.05\n",
    "st.chi2_contingency(resultado_marital)"
   ]
  },
  {
   "cell_type": "code",
   "execution_count": 17,
   "metadata": {},
   "outputs": [
    {
     "data": {
      "text/plain": [
       "[<matplotlib.lines.Line2D at 0x17b75bf6b30>,\n",
       " <matplotlib.lines.Line2D at 0x17b75bf6ad0>]"
      ]
     },
     "execution_count": 17,
     "metadata": {},
     "output_type": "execute_result"
    },
    {
     "data": {
      "image/png": "[encoded data removed]",
      "text/plain": [
       "<Figure size 640x480 with 1 Axes>"
      ]
     },
     "metadata": {},
     "output_type": "display_data"
    }
   ],
   "source": [
    "plt.plot(marital_pivot)"
   ]
  },
  {
   "cell_type": "markdown",
   "metadata": {},
   "source": [
    "# Percentage x Gender"
   ]
  },
  {
   "cell_type": "code",
   "execution_count": 18,
   "metadata": {},
   "outputs": [
    {
     "data": {
      "text/html": [
       "<div>\n",
       "<style scoped>\n",
       "    .dataframe tbody tr th:only-of-type {\n",
       "        vertical-align: middle;\n",
       "    }\n",
       "\n",
       "    .dataframe tbody tr th {\n",
       "        vertical-align: top;\n",
       "    }\n",
       "\n",
       "    .dataframe thead th {\n",
       "        text-align: right;\n",
       "    }\n",
       "</style>\n",
       "<table border=\"1\" class=\"dataframe\">\n",
       "  <thead>\n",
       "    <tr style=\"text-align: right;\">\n",
       "      <th>Gender</th>\n",
       "      <th>Female</th>\n",
       "      <th>Male</th>\n",
       "    </tr>\n",
       "    <tr>\n",
       "      <th>Percentage</th>\n",
       "      <th></th>\n",
       "      <th></th>\n",
       "    </tr>\n",
       "  </thead>\n",
       "  <tbody>\n",
       "    <tr>\n",
       "      <th>to 10%</th>\n",
       "      <td>4</td>\n",
       "      <td>16</td>\n",
       "    </tr>\n",
       "    <tr>\n",
       "      <th>to 20%</th>\n",
       "      <td>9</td>\n",
       "      <td>5</td>\n",
       "    </tr>\n",
       "    <tr>\n",
       "      <th>to 30% or more</th>\n",
       "      <td>3</td>\n",
       "      <td>8</td>\n",
       "    </tr>\n",
       "  </tbody>\n",
       "</table>\n",
       "</div>"
      ],
      "text/plain": [
       "Gender          Female  Male\n",
       "Percentage                  \n",
       "to 10%               4    16\n",
       "to 20%               9     5\n",
       "to 30% or more       3     8"
      ]
     },
     "execution_count": 18,
     "metadata": {},
     "output_type": "execute_result"
    }
   ],
   "source": [
    "gender_pivot = finance.pivot_table(index = \"Percentage\", columns = \"Gender\", aggfunc=\"size\", fill_value=0)\n",
    "gender_pivot"
   ]
  },
  {
   "cell_type": "code",
   "execution_count": 19,
   "metadata": {},
   "outputs": [
    {
     "data": {
      "text/plain": [
       "[[4, 16], [9, 5], [3, 8]]"
      ]
     },
     "execution_count": 19,
     "metadata": {},
     "output_type": "execute_result"
    }
   ],
   "source": [
    "resultado_gender = gender_pivot.values.tolist()\n",
    "resultado_gender"
   ]
  },
  {
   "cell_type": "code",
   "execution_count": 20,
   "metadata": {},
   "outputs": [
    {
     "data": {
      "text/plain": [
       "Chi2ContingencyResult(statistic=7.4846758844603665, pvalue=0.023698632279544475, dof=2, expected_freq=array([[ 7.11111111, 12.88888889],\n",
       "       [ 4.97777778,  9.02222222],\n",
       "       [ 3.91111111,  7.08888889]]))"
      ]
     },
     "execution_count": 20,
     "metadata": {},
     "output_type": "execute_result"
    }
   ],
   "source": [
    "## H0: the gender are independent of the investment\n",
    "## H1: the gender are dependent of the investment\n",
    "\n",
    "alpha = 0.05\n",
    "st.chi2_contingency(resultado_gender)"
   ]
  },
  {
   "cell_type": "code",
   "execution_count": 21,
   "metadata": {},
   "outputs": [
    {
     "data": {
      "text/plain": [
       "[<matplotlib.lines.Line2D at 0x17b75cf5360>,\n",
       " <matplotlib.lines.Line2D at 0x17b75cf5300>]"
      ]
     },
     "execution_count": 21,
     "metadata": {},
     "output_type": "execute_result"
    },
    {
     "data": {
      "image/png": "[encoded data removed]",
      "text/plain": [
       "<Figure size 640x480 with 1 Axes>"
      ]
     },
     "metadata": {},
     "output_type": "display_data"
    }
   ],
   "source": [
    "plt.plot(gender_pivot)"
   ]
  },
  {
   "cell_type": "markdown",
   "metadata": {},
   "source": [
    "# Education x Risk"
   ]
  },
  {
   "cell_type": "code",
   "execution_count": 22,
   "metadata": {},
   "outputs": [
    {
     "data": {
      "text/html": [
       "<div>\n",
       "<style scoped>\n",
       "    .dataframe tbody tr th:only-of-type {\n",
       "        vertical-align: middle;\n",
       "    }\n",
       "\n",
       "    .dataframe tbody tr th {\n",
       "        vertical-align: top;\n",
       "    }\n",
       "\n",
       "    .dataframe thead th {\n",
       "        text-align: right;\n",
       "    }\n",
       "</style>\n",
       "<table border=\"1\" class=\"dataframe\">\n",
       "  <thead>\n",
       "    <tr style=\"text-align: right;\">\n",
       "      <th>Risk</th>\n",
       "      <th>Earn more with low risk</th>\n",
       "      <th>I don't intend to invest</th>\n",
       "      <th>Not afraid to take risks</th>\n",
       "      <th>Preserve capital with no risk</th>\n",
       "    </tr>\n",
       "    <tr>\n",
       "      <th>Education</th>\n",
       "      <th></th>\n",
       "      <th></th>\n",
       "      <th></th>\n",
       "      <th></th>\n",
       "    </tr>\n",
       "  </thead>\n",
       "  <tbody>\n",
       "    <tr>\n",
       "      <th>Bachelor´s Degree</th>\n",
       "      <td>7</td>\n",
       "      <td>2</td>\n",
       "      <td>2</td>\n",
       "      <td>4</td>\n",
       "    </tr>\n",
       "    <tr>\n",
       "      <th>Master or plus</th>\n",
       "      <td>4</td>\n",
       "      <td>1</td>\n",
       "      <td>4</td>\n",
       "      <td>3</td>\n",
       "    </tr>\n",
       "    <tr>\n",
       "      <th>Postgraduate Degree</th>\n",
       "      <td>6</td>\n",
       "      <td>2</td>\n",
       "      <td>1</td>\n",
       "      <td>3</td>\n",
       "    </tr>\n",
       "    <tr>\n",
       "      <th>Primary School</th>\n",
       "      <td>0</td>\n",
       "      <td>0</td>\n",
       "      <td>0</td>\n",
       "      <td>1</td>\n",
       "    </tr>\n",
       "    <tr>\n",
       "      <th>Secondary School</th>\n",
       "      <td>5</td>\n",
       "      <td>2</td>\n",
       "      <td>3</td>\n",
       "      <td>8</td>\n",
       "    </tr>\n",
       "  </tbody>\n",
       "</table>\n",
       "</div>"
      ],
      "text/plain": [
       "Risk                 Earn more with low risk  I don't intend to invest  \\\n",
       "Education                                                                \n",
       "Bachelor´s Degree                          7                         2   \n",
       "Master or plus                             4                         1   \n",
       "Postgraduate Degree                        6                         2   \n",
       "Primary School                             0                         0   \n",
       "Secondary School                           5                         2   \n",
       "\n",
       "Risk                 Not afraid to take risks  Preserve capital with no risk  \n",
       "Education                                                                     \n",
       "Bachelor´s Degree                           2                              4  \n",
       "Master or plus                              4                              3  \n",
       "Postgraduate Degree                         1                              3  \n",
       "Primary School                              0                              1  \n",
       "Secondary School                            3                              8  "
      ]
     },
     "execution_count": 22,
     "metadata": {},
     "output_type": "execute_result"
    }
   ],
   "source": [
    "education_pivot = finance.pivot_table(index = \"Education\", columns = \"Risk\", aggfunc=\"size\",fill_value=0)\n",
    "education_pivot"
   ]
  },
  {
   "cell_type": "code",
   "execution_count": 23,
   "metadata": {},
   "outputs": [
    {
     "data": {
      "text/plain": [
       "[[7, 2, 2, 4], [4, 1, 4, 3], [6, 2, 1, 3], [0, 0, 0, 1], [5, 2, 3, 8]]"
      ]
     },
     "execution_count": 23,
     "metadata": {},
     "output_type": "execute_result"
    }
   ],
   "source": [
    "resultado_education = education_pivot.values.tolist()\n",
    "resultado_education"
   ]
  },
  {
   "cell_type": "code",
   "execution_count": 24,
   "metadata": {},
   "outputs": [
    {
     "data": {
      "text/plain": [
       "Chi2ContingencyResult(statistic=7.606008202323991, pvalue=0.8151123019796717, dof=12, expected_freq=array([[5.68965517, 1.81034483, 2.5862069 , 4.9137931 ],\n",
       "       [4.55172414, 1.44827586, 2.06896552, 3.93103448],\n",
       "       [4.55172414, 1.44827586, 2.06896552, 3.93103448],\n",
       "       [0.37931034, 0.12068966, 0.17241379, 0.32758621],\n",
       "       [6.82758621, 2.17241379, 3.10344828, 5.89655172]]))"
      ]
     },
     "execution_count": 24,
     "metadata": {},
     "output_type": "execute_result"
    }
   ],
   "source": [
    "## H0: the education status are independent of the risk\n",
    "## H1: the education status are dependent of the risk\n",
    "\n",
    "\n",
    "alpha = 0.05\n",
    "st.chi2_contingency(resultado_education)"
   ]
  },
  {
   "cell_type": "code",
   "execution_count": 25,
   "metadata": {},
   "outputs": [
    {
     "data": {
      "text/plain": [
       "[<matplotlib.lines.Line2D at 0x17b75d70c70>,\n",
       " <matplotlib.lines.Line2D at 0x17b75d70c10>,\n",
       " <matplotlib.lines.Line2D at 0x17b75d70c40>,\n",
       " <matplotlib.lines.Line2D at 0x17b75d70dc0>]"
      ]
     },
     "execution_count": 25,
     "metadata": {},
     "output_type": "execute_result"
    },
    {
     "data": {
      "image/png": "[encoded data removed]",
      "text/plain": [
       "<Figure size 640x480 with 1 Axes>"
      ]
     },
     "metadata": {},
     "output_type": "display_data"
    }
   ],
   "source": [
    "plt.plot(education_pivot)"
   ]
  },
  {
   "cell_type": "code",
   "execution_count": 26,
   "metadata": {},
   "outputs": [
    {
     "data": {
      "text/html": [
       "<div>\n",
       "<style scoped>\n",
       "    .dataframe tbody tr th:only-of-type {\n",
       "        vertical-align: middle;\n",
       "    }\n",
       "\n",
       "    .dataframe tbody tr th {\n",
       "        vertical-align: top;\n",
       "    }\n",
       "\n",
       "    .dataframe thead th {\n",
       "        text-align: right;\n",
       "    }\n",
       "</style>\n",
       "<table border=\"1\" class=\"dataframe\">\n",
       "  <thead>\n",
       "    <tr style=\"text-align: right;\">\n",
       "      <th>Risk</th>\n",
       "      <th>Risk</th>\n",
       "      <th>I don't intend to invest</th>\n",
       "    </tr>\n",
       "    <tr>\n",
       "      <th>Education</th>\n",
       "      <th></th>\n",
       "      <th></th>\n",
       "    </tr>\n",
       "  </thead>\n",
       "  <tbody>\n",
       "    <tr>\n",
       "      <th>Bachelor´s Degree</th>\n",
       "      <td>13</td>\n",
       "      <td>2</td>\n",
       "    </tr>\n",
       "    <tr>\n",
       "      <th>Master or plus</th>\n",
       "      <td>11</td>\n",
       "      <td>1</td>\n",
       "    </tr>\n",
       "    <tr>\n",
       "      <th>Postgraduate Degree</th>\n",
       "      <td>10</td>\n",
       "      <td>2</td>\n",
       "    </tr>\n",
       "    <tr>\n",
       "      <th>Primary School</th>\n",
       "      <td>1</td>\n",
       "      <td>0</td>\n",
       "    </tr>\n",
       "    <tr>\n",
       "      <th>Secondary School</th>\n",
       "      <td>16</td>\n",
       "      <td>2</td>\n",
       "    </tr>\n",
       "  </tbody>\n",
       "</table>\n",
       "</div>"
      ],
      "text/plain": [
       "Risk                 Risk  I don't intend to invest\n",
       "Education                                          \n",
       "Bachelor´s Degree      13                         2\n",
       "Master or plus         11                         1\n",
       "Postgraduate Degree    10                         2\n",
       "Primary School          1                         0\n",
       "Secondary School       16                         2"
      ]
     },
     "execution_count": 26,
     "metadata": {},
     "output_type": "execute_result"
    }
   ],
   "source": [
    "education_pivot[\"Risk\"] = education_pivot[\"Earn more with low risk\"] + education_pivot[\"Not afraid to take risks\"] + education_pivot[\"Preserve capital with no risk\"]\n",
    "\n",
    "new_education_pivot = education_pivot[[\"Risk\", \"I don't intend to invest\"]]\n",
    "new_education_pivot"
   ]
  },
  {
   "cell_type": "code",
   "execution_count": 27,
   "metadata": {},
   "outputs": [
    {
     "data": {
      "text/plain": [
       "[[13, 2], [11, 1], [10, 2], [1, 0], [16, 2]]"
      ]
     },
     "execution_count": 27,
     "metadata": {},
     "output_type": "execute_result"
    }
   ],
   "source": [
    "new_resultado_education = new_education_pivot.values.tolist()\n",
    "new_resultado_education"
   ]
  },
  {
   "cell_type": "code",
   "execution_count": 28,
   "metadata": {},
   "outputs": [
    {
     "data": {
      "text/plain": [
       "Chi2ContingencyResult(statistic=0.5722377840024899, pvalue=0.9660981750498169, dof=4, expected_freq=array([[13.18965517,  1.81034483],\n",
       "       [10.55172414,  1.44827586],\n",
       "       [10.55172414,  1.44827586],\n",
       "       [ 0.87931034,  0.12068966],\n",
       "       [15.82758621,  2.17241379]]))"
      ]
     },
     "execution_count": 28,
     "metadata": {},
     "output_type": "execute_result"
    }
   ],
   "source": [
    "## H0: the education status are independent of the investment\n",
    "## H1: the education status are dependent of the investment\n",
    "\n",
    "alpha = 0.05\n",
    "st.chi2_contingency(new_resultado_education)"
   ]
  },
  {
   "cell_type": "code",
   "execution_count": 29,
   "metadata": {},
   "outputs": [
    {
     "data": {
      "text/plain": [
       "[<matplotlib.lines.Line2D at 0x17b75ddf700>,\n",
       " <matplotlib.lines.Line2D at 0x17b75ddf760>]"
      ]
     },
     "execution_count": 29,
     "metadata": {},
     "output_type": "execute_result"
    },
    {
     "data": {
      "image/png": "[encoded data removed]",
      "text/plain": [
       "<Figure size 640x480 with 1 Axes>"
      ]
     },
     "metadata": {},
     "output_type": "display_data"
    }
   ],
   "source": [
    "plt.plot(new_resultado_education)"
   ]
  },
  {
   "cell_type": "code",
   "execution_count": 30,
   "metadata": {},
   "outputs": [
    {
     "data": {
      "text/html": [
       "<div>\n",
       "<style scoped>\n",
       "    .dataframe tbody tr th:only-of-type {\n",
       "        vertical-align: middle;\n",
       "    }\n",
       "\n",
       "    .dataframe tbody tr th {\n",
       "        vertical-align: top;\n",
       "    }\n",
       "\n",
       "    .dataframe thead th {\n",
       "        text-align: right;\n",
       "    }\n",
       "</style>\n",
       "<table border=\"1\" class=\"dataframe\">\n",
       "  <thead>\n",
       "    <tr style=\"text-align: right;\">\n",
       "      <th>Risk</th>\n",
       "      <th>Education</th>\n",
       "      <th>Risk</th>\n",
       "      <th>I don't intend to invest</th>\n",
       "    </tr>\n",
       "  </thead>\n",
       "  <tbody>\n",
       "    <tr>\n",
       "      <th>0</th>\n",
       "      <td>Bachelor´s Degree</td>\n",
       "      <td>13</td>\n",
       "      <td>2</td>\n",
       "    </tr>\n",
       "    <tr>\n",
       "      <th>1</th>\n",
       "      <td>Master or plus</td>\n",
       "      <td>11</td>\n",
       "      <td>1</td>\n",
       "    </tr>\n",
       "    <tr>\n",
       "      <th>2</th>\n",
       "      <td>Postgraduate Degree</td>\n",
       "      <td>10</td>\n",
       "      <td>2</td>\n",
       "    </tr>\n",
       "    <tr>\n",
       "      <th>3</th>\n",
       "      <td>Primary School</td>\n",
       "      <td>1</td>\n",
       "      <td>0</td>\n",
       "    </tr>\n",
       "    <tr>\n",
       "      <th>4</th>\n",
       "      <td>Secondary School</td>\n",
       "      <td>16</td>\n",
       "      <td>2</td>\n",
       "    </tr>\n",
       "  </tbody>\n",
       "</table>\n",
       "</div>"
      ],
      "text/plain": [
       "Risk            Education  Risk  I don't intend to invest\n",
       "0       Bachelor´s Degree    13                         2\n",
       "1          Master or plus    11                         1\n",
       "2     Postgraduate Degree    10                         2\n",
       "3          Primary School     1                         0\n",
       "4        Secondary School    16                         2"
      ]
     },
     "execution_count": 30,
     "metadata": {},
     "output_type": "execute_result"
    }
   ],
   "source": [
    "finance_risk = new_education_pivot.reset_index()\n",
    "finance_risk"
   ]
  },
  {
   "cell_type": "code",
   "execution_count": 31,
   "metadata": {},
   "outputs": [
    {
     "data": {
      "text/html": [
       "<div>\n",
       "<style scoped>\n",
       "    .dataframe tbody tr th:only-of-type {\n",
       "        vertical-align: middle;\n",
       "    }\n",
       "\n",
       "    .dataframe tbody tr th {\n",
       "        vertical-align: top;\n",
       "    }\n",
       "\n",
       "    .dataframe thead th {\n",
       "        text-align: right;\n",
       "    }\n",
       "</style>\n",
       "<table border=\"1\" class=\"dataframe\">\n",
       "  <thead>\n",
       "    <tr style=\"text-align: right;\">\n",
       "      <th>Risk</th>\n",
       "      <th>Education</th>\n",
       "      <th>Risk</th>\n",
       "      <th>I don't intend to invest</th>\n",
       "      <th>Risk_perc</th>\n",
       "    </tr>\n",
       "  </thead>\n",
       "  <tbody>\n",
       "    <tr>\n",
       "      <th>0</th>\n",
       "      <td>Bachelor´s Degree</td>\n",
       "      <td>13</td>\n",
       "      <td>2</td>\n",
       "      <td>25.49</td>\n",
       "    </tr>\n",
       "    <tr>\n",
       "      <th>1</th>\n",
       "      <td>Master or plus</td>\n",
       "      <td>11</td>\n",
       "      <td>1</td>\n",
       "      <td>21.57</td>\n",
       "    </tr>\n",
       "    <tr>\n",
       "      <th>2</th>\n",
       "      <td>Postgraduate Degree</td>\n",
       "      <td>10</td>\n",
       "      <td>2</td>\n",
       "      <td>19.61</td>\n",
       "    </tr>\n",
       "    <tr>\n",
       "      <th>3</th>\n",
       "      <td>Primary School</td>\n",
       "      <td>1</td>\n",
       "      <td>0</td>\n",
       "      <td>1.96</td>\n",
       "    </tr>\n",
       "    <tr>\n",
       "      <th>4</th>\n",
       "      <td>Secondary School</td>\n",
       "      <td>16</td>\n",
       "      <td>2</td>\n",
       "      <td>31.37</td>\n",
       "    </tr>\n",
       "  </tbody>\n",
       "</table>\n",
       "</div>"
      ],
      "text/plain": [
       "Risk            Education  Risk  I don't intend to invest  Risk_perc\n",
       "0       Bachelor´s Degree    13                         2      25.49\n",
       "1          Master or plus    11                         1      21.57\n",
       "2     Postgraduate Degree    10                         2      19.61\n",
       "3          Primary School     1                         0       1.96\n",
       "4        Secondary School    16                         2      31.37"
      ]
     },
     "execution_count": 31,
     "metadata": {},
     "output_type": "execute_result"
    }
   ],
   "source": [
    "finance_risk[\"Risk_perc\"] = round(finance_risk[\"Risk\"]/finance_risk[\"Risk\"].sum()*100,2)\n",
    "finance_risk"
   ]
  },
  {
   "cell_type": "code",
   "execution_count": 32,
   "metadata": {},
   "outputs": [
    {
     "data": {
      "text/html": [
       "<div>\n",
       "<style scoped>\n",
       "    .dataframe tbody tr th:only-of-type {\n",
       "        vertical-align: middle;\n",
       "    }\n",
       "\n",
       "    .dataframe tbody tr th {\n",
       "        vertical-align: top;\n",
       "    }\n",
       "\n",
       "    .dataframe thead th {\n",
       "        text-align: right;\n",
       "    }\n",
       "</style>\n",
       "<table border=\"1\" class=\"dataframe\">\n",
       "  <thead>\n",
       "    <tr style=\"text-align: right;\">\n",
       "      <th>Risk</th>\n",
       "      <th>Education</th>\n",
       "      <th>Risk</th>\n",
       "      <th>I don't intend to invest</th>\n",
       "      <th>Risk_perc</th>\n",
       "      <th>No Invest</th>\n",
       "    </tr>\n",
       "  </thead>\n",
       "  <tbody>\n",
       "    <tr>\n",
       "      <th>0</th>\n",
       "      <td>Bachelor´s Degree</td>\n",
       "      <td>13</td>\n",
       "      <td>2</td>\n",
       "      <td>25.49</td>\n",
       "      <td>28.57</td>\n",
       "    </tr>\n",
       "    <tr>\n",
       "      <th>1</th>\n",
       "      <td>Master or plus</td>\n",
       "      <td>11</td>\n",
       "      <td>1</td>\n",
       "      <td>21.57</td>\n",
       "      <td>14.29</td>\n",
       "    </tr>\n",
       "    <tr>\n",
       "      <th>2</th>\n",
       "      <td>Postgraduate Degree</td>\n",
       "      <td>10</td>\n",
       "      <td>2</td>\n",
       "      <td>19.61</td>\n",
       "      <td>28.57</td>\n",
       "    </tr>\n",
       "    <tr>\n",
       "      <th>3</th>\n",
       "      <td>Primary School</td>\n",
       "      <td>1</td>\n",
       "      <td>0</td>\n",
       "      <td>1.96</td>\n",
       "      <td>0.00</td>\n",
       "    </tr>\n",
       "    <tr>\n",
       "      <th>4</th>\n",
       "      <td>Secondary School</td>\n",
       "      <td>16</td>\n",
       "      <td>2</td>\n",
       "      <td>31.37</td>\n",
       "      <td>28.57</td>\n",
       "    </tr>\n",
       "  </tbody>\n",
       "</table>\n",
       "</div>"
      ],
      "text/plain": [
       "Risk            Education  Risk  I don't intend to invest  Risk_perc  \\\n",
       "0       Bachelor´s Degree    13                         2      25.49   \n",
       "1          Master or plus    11                         1      21.57   \n",
       "2     Postgraduate Degree    10                         2      19.61   \n",
       "3          Primary School     1                         0       1.96   \n",
       "4        Secondary School    16                         2      31.37   \n",
       "\n",
       "Risk  No Invest  \n",
       "0         28.57  \n",
       "1         14.29  \n",
       "2         28.57  \n",
       "3          0.00  \n",
       "4         28.57  "
      ]
     },
     "execution_count": 32,
     "metadata": {},
     "output_type": "execute_result"
    }
   ],
   "source": [
    "finance_risk[\"No Invest\"] = round(finance_risk[\"I don't intend to invest\"]/finance_risk[\"I don't intend to invest\"].sum()*100,2)\n",
    "finance_risk"
   ]
  },
  {
   "cell_type": "markdown",
   "metadata": {},
   "source": [
    "# SAVE FILES"
   ]
  },
  {
   "cell_type": "code",
   "execution_count": 33,
   "metadata": {},
   "outputs": [],
   "source": [
    "finance_risk.to_csv(\"finance_risk.csv\", index=False)"
   ]
  },
  {
   "cell_type": "code",
   "execution_count": 34,
   "metadata": {},
   "outputs": [],
   "source": [
    "finance.to_csv(\"finance.csv\", index=False)"
   ]
  },
  {
   "cell_type": "code",
   "execution_count": 73,
   "metadata": {},
   "outputs": [
    {
     "name": "stdout",
     "output_type": "stream",
     "text": [
      "F-statistic: 0.17538622690192374\n",
      "P-value: 0.6769705345873518\n",
      "          Multiple Comparison of Means - Tukey HSD, FWER=0.05           \n",
      "========================================================================\n",
      "      group1           group2     meandiff p-adj  lower    upper  reject\n",
      "------------------------------------------------------------------------\n",
      "Slightly important Very important  -2.7308 0.677 -15.7931 10.3316  False\n",
      "------------------------------------------------------------------------\n"
     ]
    }
   ],
   "source": [
    "# Perform ANOVA test\n",
    "f_statistic, p_value = f_oneway(finance[finance[\"Importance\"] == \"Very important\"][\"Age\"],\n",
    "                                 finance[finance[\"Importance\"] == \"Slightly important\"][\"Age\"])\n",
    "# Print the ANOVA test results\n",
    "print(\"F-statistic:\", f_statistic)\n",
    "print(\"P-value:\", p_value)\n",
    "# Perform Tukey's HSD test\n",
    "tukey_result = pairwise_tukeyhsd(finance[\"Age\"],finance[\"Importance\"])\n",
    "# Print Tukey's HSD results\n",
    "print(tukey_result)"
   ]
  },
  {
   "cell_type": "code",
   "execution_count": 75,
   "metadata": {},
   "outputs": [
    {
     "data": {
      "text/plain": [
       "Importance\n",
       "Very important        52\n",
       "Slightly important     6\n",
       "Name: count, dtype: int64"
      ]
     },
     "execution_count": 75,
     "metadata": {},
     "output_type": "execute_result"
    }
   ],
   "source": [
    "finance[\"Importance\"].value_counts()"
   ]
  },
  {
   "cell_type": "code",
   "execution_count": 68,
   "metadata": {},
   "outputs": [],
   "source": [
    "finance[\"Age\"] = finance[\"Age\"].astype(float)"
   ]
  },
  {
   "cell_type": "code",
   "execution_count": 57,
   "metadata": {},
   "outputs": [
    {
     "data": {
      "text/plain": [
       "array([24, 32, 23, 39, 35, 16, 43, 17, 30, 44, 22, 29, 42, 45, 34, 27, 25,\n",
       "       31, 52, 75, 47, 73, 63, 78, 46, 40, 41, 50, 55, 33, 36, 28, 37])"
      ]
     },
     "execution_count": 57,
     "metadata": {},
     "output_type": "execute_result"
    }
   ],
   "source": [
    "finance[\"Age\"].unique()"
   ]
  },
  {
   "cell_type": "code",
   "execution_count": 79,
   "metadata": {},
   "outputs": [
    {
     "data": {
      "text/plain": [
       "0"
      ]
     },
     "execution_count": 79,
     "metadata": {},
     "output_type": "execute_result"
    }
   ],
   "source": [
    "\n",
    "finance[\"Age\"].isnull().sum()"
   ]
  }
 ],
 "metadata": {
  "kernelspec": {
   "display_name": "base",
   "language": "python",
   "name": "python3"
  },
  "language_info": {
   "codemirror_mode": {
    "name": "ipython",
    "version": 3
   },
   "file_extension": ".py",
   "mimetype": "text/x-python",
   "name": "python",
   "nbconvert_exporter": "python",
   "pygments_lexer": "ipython3",
   "version": "3.10.9"
  },
  "orig_nbformat": 4
 },
 "nbformat": 4,
 "nbformat_minor": 2
}
